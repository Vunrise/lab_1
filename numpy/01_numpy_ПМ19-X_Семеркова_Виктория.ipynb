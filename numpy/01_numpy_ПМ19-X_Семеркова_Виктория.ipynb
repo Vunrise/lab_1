{
 "cells": [
  {
   "cell_type": "markdown",
   "metadata": {},
   "source": [
    "# Numpy"
   ]
  },
  {
   "cell_type": "markdown",
   "metadata": {},
   "source": [
    "Материалы:\n",
    "* Макрушин С.В. \"Лекция 1: Библиотека Numpy\"\n",
    "* https://numpy.org/doc/stable/user/index.html\n",
    "* https://numpy.org/doc/stable/reference/index.html"
   ]
  },
  {
   "cell_type": "markdown",
   "metadata": {},
   "source": [
    "## Лабораторная работа №1"
   ]
  },
  {
   "cell_type": "markdown",
   "metadata": {},
   "source": [
    "Замечание: при решении данных задач не подразумевается использования циклов или генераторов Python, если в задании не сказано обратного. Решение должно опираться на использования функционала библиотеки `numpy`."
   ]
  },
  {
   "cell_type": "markdown",
   "metadata": {},
   "source": [
    "1. Файл `minutes_n_ingredients.csv` содержит информацию об идентификаторе рецепта, времени его выполнения в минутах и количестве необходимых ингредиентов. Считайте данные из этого файла в виде массива `numpy` типа `int32`, используя `np.loadtxt`. Выведите на экран первые 5 строк массива."
   ]
  },
  {
   "cell_type": "code",
   "execution_count": 1,
   "metadata": {},
   "outputs": [
    {
     "name": "stdout",
     "output_type": "stream",
     "text": [
      "[[127244     60     16]\n",
      " [ 23891     25      7]\n",
      " [ 94746     10      6]\n",
      " [ 67660      5      6]\n",
      " [157911     60     14]]\n"
     ]
    }
   ],
   "source": [
    "import numpy as np\n",
    "\n",
    "all_data = np.loadtxt('data/minutes_n_ingredients.csv', skiprows=1, delimiter=',', dtype=np.int32)\n",
    "print(all_data[:5])"
   ]
  },
  {
   "cell_type": "markdown",
   "metadata": {},
   "source": [
    "2. Вычислите среднее значение, минимум, максимум и медиану по каждому из столбцов, кроме первого."
   ]
  },
  {
   "cell_type": "code",
   "execution_count": 2,
   "metadata": {},
   "outputs": [
    {
     "name": "stdout",
     "output_type": "stream",
     "text": [
      "Средние значения: [-21348      9]\n",
      "Минимальные значения: [0 1]\n",
      "Максимальные значения: [2147483647         39]\n",
      "Медианы: [40.  9.]\n"
     ]
    }
   ],
   "source": [
    "cols = [1, 2]\n",
    "average_val = np.mean(all_data[:, cols], axis = 0, dtype = np.int32)\n",
    "min_val = np.amin(all_data[:, cols], axis=0)\n",
    "max_val = np.amax(all_data[:, cols], axis=0)\n",
    "median_val = np.median(all_data[:, cols], axis=0)\n",
    "print(f'Средние значения: {average_val}')\n",
    "print(f'Минимальные значения: {min_val}')\n",
    "print(f'Максимальные значения: {max_val}')\n",
    "print(f'Медианы: {median_val}')"
   ]
  },
  {
   "cell_type": "markdown",
   "metadata": {},
   "source": [
    "3. Ограничьте сверху значения продолжительности выполнения рецепта значением квантиля $q_{0.75}$. "
   ]
  },
  {
   "cell_type": "code",
   "execution_count": 3,
   "metadata": {},
   "outputs": [],
   "source": [
    "quan = np.quantile(all_data[:, 1], 0.75)\n",
    "all_data[:, 1] = all_data[:, 1].clip(max=quan)"
   ]
  },
  {
   "cell_type": "markdown",
   "metadata": {},
   "source": [
    "4. Посчитайте, для скольких рецептов указана продолжительность, равная нулю. Замените для таких строк значение в данном столбце на 1."
   ]
  },
  {
   "cell_type": "code",
   "execution_count": 4,
   "metadata": {},
   "outputs": [
    {
     "name": "stdout",
     "output_type": "stream",
     "text": [
      "Количество рецептов равных 0: 479\n",
      "Проверка: 0\n"
     ]
    }
   ],
   "source": [
    "value = all_data[:, 1].size - np.count_nonzero(all_data[:, 1])\n",
    "print(f'Количество рецептов равных 0: {value}')\n",
    "all_data[:, 1][all_data[:, 1] == 0 ] = 1\n",
    "value = all_data[:, 1].size - np.count_nonzero(all_data[:, 1])\n",
    "print(f'Проверка: {value}')"
   ]
  },
  {
   "cell_type": "markdown",
   "metadata": {},
   "source": [
    "5. Посчитайте, сколько уникальных рецептов находится в датасете."
   ]
  },
  {
   "cell_type": "code",
   "execution_count": 5,
   "metadata": {},
   "outputs": [
    {
     "name": "stdout",
     "output_type": "stream",
     "text": [
      "Количество уникальных рецептов: 100000\n"
     ]
    }
   ],
   "source": [
    "count = len(np.unique(all_data[:, 0]))\n",
    "print(f'Количество уникальных рецептов: {count}')"
   ]
  },
  {
   "cell_type": "markdown",
   "metadata": {},
   "source": [
    "6. Сколько и каких различных значений кол-ва ингредиентов присутвует в рецептах из датасета?"
   ]
  },
  {
   "cell_type": "code",
   "execution_count": 6,
   "metadata": {},
   "outputs": [
    {
     "name": "stdout",
     "output_type": "stream",
     "text": [
      "Количество различных значений кол-ва ингредиентов: 37\n",
      "Различные значения кол-ва ингредиентов: [ 1  2  3  4  5  6  7  8  9 10 11 12 13 14 15 16 17 18 19 20 21 22 23 24\n",
      " 25 26 27 28 29 30 31 32 33 34 35 37 39]\n"
     ]
    }
   ],
   "source": [
    "count = len(np.unique(all_data[:, 2]))\n",
    "unique = np.unique(all_data[:, 2])\n",
    "print(f'Количество различных значений кол-ва ингредиентов: {count}')\n",
    "print(f'Различные значения кол-ва ингредиентов: {unique}')"
   ]
  },
  {
   "cell_type": "markdown",
   "metadata": {},
   "source": [
    "7. Создайте версию массива, содержащую информацию только о рецептах, состоящих не более чем из 5 ингредиентов."
   ]
  },
  {
   "cell_type": "code",
   "execution_count": 7,
   "metadata": {},
   "outputs": [
    {
     "data": {
      "text/plain": [
       "array([[446597,     15,      5],\n",
       "       [204134,      5,      3],\n",
       "       [ 25623,      6,      4],\n",
       "       ...,\n",
       "       [ 52088,     60,      5],\n",
       "       [128811,     15,      4],\n",
       "       [370915,      5,      4]])"
      ]
     },
     "execution_count": 7,
     "metadata": {},
     "output_type": "execute_result"
    }
   ],
   "source": [
    "index = np.where(all_data[:, 2] > 5 )\n",
    "np.delete(all_data, index, 0)"
   ]
  },
  {
   "cell_type": "markdown",
   "metadata": {},
   "source": [
    "8. Для каждого рецепта посчитайте, сколько в среднем ингредиентов приходится на одну минуту рецепта. Найдите максимальное значение этой величины для всего датасета"
   ]
  },
  {
   "cell_type": "code",
   "execution_count": 8,
   "metadata": {},
   "outputs": [
    {
     "name": "stdout",
     "output_type": "stream",
     "text": [
      "24.0\n"
     ]
    }
   ],
   "source": [
    "minutes = all_data[:, 1]\n",
    "ingredients = all_data[:, 2]\n",
    "\n",
    "one = ingredients / minutes\n",
    "print(np.amax(one))"
   ]
  },
  {
   "cell_type": "markdown",
   "metadata": {},
   "source": [
    "9. Вычислите среднее количество ингредиентов для топ-100 рецептов с наибольшей продолжительностью"
   ]
  },
  {
   "cell_type": "code",
   "execution_count": 9,
   "metadata": {},
   "outputs": [
    {
     "name": "stdout",
     "output_type": "stream",
     "text": [
      "Среднее: 9.96\n"
     ]
    }
   ],
   "source": [
    "x_sorted_desc = all_data[all_data[:, 1]. argsort ()[::-1]]\n",
    "hundred = x_sorted_desc[:100]\n",
    "last = hundred[:, 2]\n",
    "print(f'Среднее: {np.mean(last)}')"
   ]
  },
  {
   "cell_type": "markdown",
   "metadata": {},
   "source": [
    "10. Выберите случайным образом и выведите информацию о 10 различных рецептах"
   ]
  },
  {
   "cell_type": "code",
   "execution_count": 10,
   "metadata": {},
   "outputs": [
    {
     "name": "stdout",
     "output_type": "stream",
     "text": [
      "[[168785     35      9]\n",
      " [183413      6      8]\n",
      " [396133     25      5]\n",
      " [309969      5      6]\n",
      " [150204     25      8]\n",
      " [403594     65      7]\n",
      " [105350     35     12]\n",
      " [191234     25     10]\n",
      " [263988      5      4]\n",
      " [277495      2      4]]\n"
     ]
    }
   ],
   "source": [
    "rows, columns = all_data.shape\n",
    "cols = [np.random.randint(0, rows+1) for i in range(10)]\n",
    "print(all_data[cols, :])"
   ]
  },
  {
   "cell_type": "markdown",
   "metadata": {},
   "source": [
    "11. Выведите процент рецептов, кол-во ингредиентов в которых меньше среднего."
   ]
  },
  {
   "cell_type": "code",
   "execution_count": 11,
   "metadata": {},
   "outputs": [
    {
     "name": "stdout",
     "output_type": "stream",
     "text": [
      "58.802%\n"
     ]
    }
   ],
   "source": [
    "average = np.mean(ingredients)\n",
    "num = ingredients < average\n",
    "final = ingredients[num].size * 100 / ingredients.size\n",
    "print(f'{final}%')"
   ]
  },
  {
   "cell_type": "markdown",
   "metadata": {},
   "source": [
    "12. Назовем \"простым\" такой рецепт, длительность выполнения которого не больше 20 минут и кол-во ингредиентов в котором не больше 5. Создайте версию датасета с дополнительным столбцом, значениями которого являются 1, если рецепт простой, и 0 в противном случае."
   ]
  },
  {
   "cell_type": "code",
   "execution_count": 12,
   "metadata": {},
   "outputs": [
    {
     "name": "stdout",
     "output_type": "stream",
     "text": [
      "[[127244     60     16      0]\n",
      " [ 23891     25      7      0]\n",
      " [ 94746     10      6      0]\n",
      " ...\n",
      " [498432     65     15      0]\n",
      " [370915      5      4      1]\n",
      " [ 81993     65     14      0]]\n"
     ]
    }
   ],
   "source": [
    "rows, columns = all_data.shape\n",
    "onesArr = np.zeros((rows, 1), dtype=np.int32)\n",
    "all_data_1 = np.concatenate((all_data, onesArr), axis=1)\n",
    "indexes = np.where((ingredients <= 5) & (minutes <= 20))\n",
    "all_data_1[indexes, 3] = 1\n",
    "print(all_data_1)\n"
   ]
  },
  {
   "cell_type": "markdown",
   "metadata": {},
   "source": [
    "13. Выведите процент \"простых\" рецептов в датасете"
   ]
  },
  {
   "cell_type": "code",
   "execution_count": 13,
   "metadata": {},
   "outputs": [
    {
     "name": "stdout",
     "output_type": "stream",
     "text": [
      "9.552%\n"
     ]
    }
   ],
   "source": [
    "column = all_data_1[:, 3]\n",
    "num = column == 1\n",
    "final = column[num].size * 100 / column.size\n",
    "print(f'{final}%')"
   ]
  },
  {
   "cell_type": "markdown",
   "metadata": {},
   "source": [
    "14. Разделим рецепты на группы по следующему правилу. Назовем рецепты короткими, если их продолжительность составляет менее 10 минут; стандартными, если их продолжительность составляет более 10, но менее 20 минут; и длинными, если их продолжительность составляет не менее 20 минут. Создайте трехмерный массив, где нулевая ось отвечает за номер группы (короткий, стандартный или длинный рецепт), первая ось - за сам рецепт и вторая ось - за характеристики рецепта. Выберите максимальное количество рецептов из каждой группы таким образом, чтобы было возможно сформировать трехмерный массив. Выведите форму полученного массива."
   ]
  },
  {
   "cell_type": "code",
   "execution_count": 14,
   "metadata": {},
   "outputs": [
    {
     "name": "stdout",
     "output_type": "stream",
     "text": [
      "(3, 7588, 3)\n"
     ]
    }
   ],
   "source": [
    "first = all_data[all_data[:, 1] < 10]\n",
    "second = all_data[(all_data[:, 1] >= 10) & (all_data[:, 1] < 20)]\n",
    "third = all_data[all_data[:, 1] > 20]\n",
    "max = min(map(len, [first, second, third]))\n",
    "final = np.vstack(([first[:max,:]], [second[:max,:]], [third[:max,:]]))\n",
    "print(final.shape)"
   ]
  }
 ],
 "metadata": {
  "kernelspec": {
   "display_name": "Python 3",
   "language": "python",
   "name": "python3"
  },
  "language_info": {
   "codemirror_mode": {
    "name": "ipython",
    "version": 3
   },
   "file_extension": ".py",
   "mimetype": "text/x-python",
   "name": "python",
   "nbconvert_exporter": "python",
   "pygments_lexer": "ipython3",
   "version": "3.10.10"
  },
  "vscode": {
   "interpreter": {
    "hash": "0e9aba13a6c4d174a069089f8339c9c987b5af7012816c511a9247261f195389"
   }
  }
 },
 "nbformat": 4,
 "nbformat_minor": 4
}
